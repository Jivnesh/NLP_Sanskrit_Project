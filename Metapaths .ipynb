{
 "cells": [
  {
   "cell_type": "code",
   "execution_count": 1,
   "metadata": {
    "collapsed": true
   },
   "outputs": [],
   "source": [
    "import sqlite3\n",
    "import pandas as pd \n",
    "from itertools import *\n",
    "import numpy as np\n",
    "import json"
   ]
  },
  {
   "cell_type": "code",
   "execution_count": 2,
   "metadata": {},
   "outputs": [
    {
     "data": {
      "text/plain": [
       "'Our objective is to make metapaths from our graph with end nodes as CNG, Word or Lemma and internal nodes as Distinct CNGs\\nor CNG Groups'"
      ]
     },
     "execution_count": 2,
     "metadata": {},
     "output_type": "execute_result"
    }
   ],
   "source": [
    "'''Our objective is to make metapaths from our graph with end nodes as CNG, Word or Lemma and internal nodes as Distinct CNGs\n",
    "or CNG Groups'''"
   ]
  },
  {
   "cell_type": "code",
   "execution_count": 5,
   "metadata": {
    "collapsed": true
   },
   "outputs": [],
   "source": [
    "conn = sqlite3.connect('Extracted.db')\n",
    "conn1 = sqlite3.connect('Metapath.db')"
   ]
  },
  {
   "cell_type": "code",
   "execution_count": 6,
   "metadata": {},
   "outputs": [],
   "source": [
    "CNG = pd.read_sql(sql = 'SELECT CNG FROM Extracted GROUP BY CNG', con = conn)\n"
   ]
  },
  {
   "cell_type": "code",
   "execution_count": 7,
   "metadata": {
    "collapsed": true
   },
   "outputs": [],
   "source": [
    "#These Json Files contain the CNG Groupings \n",
    "dictnoun = json.load(open(\"noungroups.json\"))\n",
    "dictverb = json.load(open(\"verbgroups.json\"))"
   ]
  },
  {
   "cell_type": "code",
   "execution_count": 8,
   "metadata": {
    "collapsed": true
   },
   "outputs": [
    {
     "name": "stdout",
     "output_type": "stream",
     "text": [
      "{'instr. adj.': [92, 97, 102], 'fem': [30, 35, 40, 50, 55, 60, 70, 75, 80, 90, 95, 100, 110, 115, 120, 130, 135, 140, 150, 155, 160, 170, 175, 180], 'acc. pl.': [79, 80, 81, 82], 'acc. neutr.': [71, 76, 81], 'voc': [49, 50, 51, 54, 55, 56, 59, 60, 61], 'loc': [169, 170, 171, 172, 174, 175, 176, 177, 179, 180, 181, 182], 'loc. du.': [174, 175, 176, 177], 'nom. masc.': [29, 34, 39], 'dat. du.': [114, 115, 116, 117], 'abl. pl.': [139, 140, 141, 142], 'du': [34, 35, 36, 37, 54, 55, 56, 74, 75, 76, 77, 94, 95, 96, 97, 114, 115, 116, 117, 134, 135, 136, 137, 154, 155, 156, 157, 174, 175, 176, 177], 'voc. neutr.': [51, 56, 61], 'voc. masc.': [49, 54, 59], 'instr. pl.': [99, 100, 101, 102], 'acc. du.': [74, 75, 76, 77], 'instr': [89, 90, 91, 92, 94, 95, 96, 97, 99, 100, 101, 102], 'abl': [129, 130, 131, 132, 134, 135, 136, 137, 139, 140, 141, 142], 'nom. du.': [34, 35, 36, 37], 'voc. pl.': [59, 60, 61], 'instr. neutr.': [91, 96, 101], 'adj': [32, 37, 42, 57, 62, 72, 77, 82, 92, 97, 102, 112, 117, 122, 132, 137, 142, 152, 157, 162, 172, 177, 182], 'pl': [39, 40, 41, 42, 59, 60, 61, 79, 80, 81, 82, 99, 100, 101, 102, 119, 120, 121, 122, 139, 140, 141, 142, 159, 160, 161, 162, 179, 180, 181, 182], 'dat. sg.': [109, 110, 111, 112], 'nom': [29, 30, 31, 32, 34, 35, 36, 37, 39, 40, 41, 42], 'nom. adj.': [32, 37, 42], 'loc. sg.': [169, 170, 171, 172], 'gen. pl.': [159, 160, 161, 162], 'acc. masc.': [69, 74, 79], 'loc. pl.': [179, 180, 181, 182], 'instr. du.': [94, 95, 96, 97], 'voc. fem': [50, 55, 60], 'acc. sg.': [69, 70, 71, 72], 'dat': [109, 110, 111, 112, 114, 115, 116, 117, 119, 120, 121, 122], 'neutr': [31, 36, 41, 51, 56, 61, 71, 76, 81, 91, 96, 101, 111, 116, 121, 131, 136, 141, 151, 156, 161, 171, 176, 181], 'masc': [29, 34, 39, 49, 54, 59, 69, 74, 79, 89, 94, 99, 109, 114, 119, 129, 134, 139, 149, 154, 159, 169, 174, 179], 'instr. masc.': [89, 84, 99], 'acc. fem': [70, 75, 80], 'gen': [149, 150, 151, 152, 154, 155, 156, 157, 159, 160, 161, 162], 'acc': [69, 70, 71, 72, 74, 75, 76, 77, 79, 80, 81, 82], 'voc. du.': [54, 55, 56], 'nom. sg.': [29, 30, 31, 32], 'instr. sg.': [89, 90, 91, 92], 'nom. fem': [30, 35, 40], 'gen. du.': [154, 155, 156, 157], 'nom. pl.': [39, 40, 41, 42], 'gen. sg.': [149, 150, 151, 152], 'instr. fem': [90, 95, 100], 'dat. pl.': [119, 120, 121, 122], 'acc. adj.': [72, 77, 82], 'abl. sg.': [129, 130, 131, 132], 'sg': [29, 30, 31, 32, 49, 50, 51, 69, 70, 71, 72, 89, 90, 91, 92, 109, 110, 111, 112, 129, 130, 131, 132, 149, 150, 151, 152, 169, 170, 171, 172], 'voc. sg.': [49, 50, 51], 'abl. du.': [134, 135, 136, 137], 'nom. neutr.': [31, 36, 41]}\n",
      "{'31_sp': [312, 318], '25_pl': [257, 259], '30_du': [306], '3_fp': [34, 37, 31], '5_fp': [57, 51, 54], '4_pl': [48, 49, 47], '27_sg': [272, 273, 271], 'du_fp': [64, 34, 164, 104, 74, 44, 114, 54, 24, 154, 124, 94], '28_tp': [289, 283, 286], '10_sp': [108, 102], '30_sp': [302], '11_sg': [112, 113, 111], 'pl': [257, 129, 259, 139, 147, 149, 278, 279, 27, 28, 157, 29, 159, 289, 37, 38, 167, 168, 169, 39, 47, 48, 49, 307, 179, 309, 57, 58, 59, 317, 318, 319, 67, 68, 69, 77, 78, 79, 87, 88, 89, 97, 99, 107, 108, 109, 119, 127], '15_sp': [152], 'du_sp': [65, 35, 45, 55, 25, 125, 255], '5_tp': [56, 59, 53], '12_tp': [129, 123], '16_sg': [161, 162, 163], '28_pl': [289], '28_du': [286], '27_du': [276], '12_pl': [129, 127], 'sp': [132, 142, 272, 22, 278, 152, 25, 28, 32, 162, 35, 38, 168, 42, 45, 302, 48, 52, 55, 312, 58, 62, 318, 65, 68, 72, 78, 82, 88, 92, 102, 108, 112, 122, 252, 125, 255], '27_pl': [278, 279], '2_tp': [26, 29, 23], '5_du': [56, 54, 55], '11_tp': [113, 119], '6_sg': [61, 62, 63], '7_sg': [72, 73, 71], '12_du': [124, 125], 'tp': [256, 129, 259, 133, 136, 139, 143, 273, 276, 149, 23, 279, 153, 26, 283, 29, 286, 159, 33, 289, 163, 36, 293, 166, 39, 169, 43, 173, 46, 303, 176, 49, 306, 179, 53, 309, 56, 313, 59, 316, 63, 319, 66, 69, 73, 76, 79, 83, 86, 89, 93, 96, 99, 103, 106, 109, 113, 119, 123, 253], '28_fp': [281], '7_sp': [72, 78], '17_du': [176], '28_sg': [281, 283], '31_tp': [313, 316, 319], '9_pl': [97, 99], '4_du': [44, 45, 46], '8_tp': [89, 83, 86], 'sg_sp': [32, 162, 312, 132, 102, 72, 42, 302, 142, 112, 272, 82, 52, 252, 22, 152, 122, 92, 62], '31_sg': [312, 313, 311], '16_tp': [169, 163, 166], '31_fp': [317, 311], '2_fp': [24, 27, 21], 'fp': [257, 131, 141, 271, 147, 21, 151, 24, 281, 154, 27, 157, 31, 161, 34, 164, 37, 167, 41, 171, 44, 301, 47, 51, 307, 54, 311, 57, 61, 317, 64, 67, 71, 74, 77, 81, 87, 91, 94, 97, 101, 104, 107, 111, 114, 121, 251, 124, 127], '7_tp': [73, 76, 79], '8_sg': [81, 82, 83], '4_fp': [41, 44, 47], '6_sp': [65, 68, 62], 'sg_fp': [161, 121, 131, 101, 71, 41, 171, 301, 141, 111, 251, 81, 311, 51, 271, 21, 151, 281, 91, 61, 31], '6_du': [64, 65, 66], '25_tp': [256, 259, 253], '16_fp': [161, 164, 167], '16_pl': [168, 169, 167], '27_tp': [273, 276, 279], '25_fp': [257, 251], '7_du': [74, 76], '31_du': [316], '2_pl': [27, 28, 29], '12_fp': [121, 124, 127], '11_pl': [119], '9_fp': [97, 91, 94], '14_tp': [149, 143], '10_sg': [101, 102, 103], '8_sp': [88, 82], '15_tp': [153, 159], '10_du': [104, 106], '6_fp': [64, 67, 61], '2_du': [24, 25, 26], '13_sg': [131, 132, 133], '25_du': [256, 255], '14_fp': [147, 141], '15_pl': [157, 159], '3_sp': [32, 35, 38], '14_sg': [141, 142, 143], '8_pl': [88, 89, 87], 'pl_fp': [97, 257, 67, 37, 167, 27, 107, 77, 47, 307, 147, 87, 57, 317, 157, 127], '10_fp': [104, 107, 101], '5_sg': [51, 52, 53], '7_pl': [77, 78, 79], '25_sp': [252, 255], '27_fp': [271], 'du_tp': [96, 256, 66, 36, 166, 136, 106, 76, 46, 176, 306, 276, 86, 56, 26, 316, 286], '7_fp': [74, 77, 71], '4_tp': [49, 43, 46], 'sg_tp': [133, 143, 273, 23, 153, 283, 33, 163, 293, 43, 173, 303, 53, 313, 63, 73, 83, 93, 103, 113, 123, 253], '15_du': [154], '4_sg': [41, 42, 43], '3_tp': [33, 36, 39], '16_du': [164, 166], '12_sp': [122, 125], '17_tp': [176, 179, 173], '13_sp': [132], '9_sp': [92], '9_tp': [96, 99, 93], '17_sg': [171, 173], '3_du': [34, 35, 36], '31_pl': [317, 318, 319], '13_fp': [131], '11_du': [114], '14_pl': [147, 149], '30_fp': [307, 301], '5_pl': [57, 58, 59], '12_sg': [121, 122, 123], '10_tp': [106, 109, 103], '9_du': [96, 94], '4_sp': [48, 42, 45], 'sg': [131, 132, 133, 141, 142, 271, 272, 143, 273, 21, 22, 151, 152, 281, 153, 283, 23, 31, 32, 161, 162, 163, 33, 293, 41, 42, 171, 43, 301, 302, 303, 173, 51, 52, 53, 311, 312, 313, 61, 62, 63, 71, 72, 73, 81, 82, 83, 91, 92, 93, 101, 102, 103, 123, 111, 112, 113, 121, 122, 251, 252, 253], '29_sg': [293], '15_sg': [152, 153, 151], '13_tp': [136, 139, 133], '5_sp': [58, 52, 55], 'pl_sp': [68, 38, 168, 108, 78, 48, 278, 88, 58, 28, 318], '13_pl': [139], '11_sp': [112], '8_fp': [81, 87], '10_pl': [107, 108, 109], '30_pl': [307, 309], '8_du': [86], '16_sp': [168, 162], '17_fp': [171], '6_pl': [67, 68, 69], '13_du': [136], '30_tp': [306, 309, 303], 'pl_tp': [289, 129, 99, 259, 69, 319, 39, 169, 139, 109, 79, 49, 179, 309, 149, 119, 89, 59, 279, 29, 159], 'du': [256, 136, 276, 24, 25, 154, 26, 286, 34, 35, 164, 36, 166, 44, 45, 46, 176, 306, 54, 55, 56, 316, 64, 65, 66, 74, 76, 86, 94, 96, 104, 106, 114, 124, 125, 255], '9_sg': [91, 92, 93], '29_tp': [293], '11_fp': [114, 111], '30_sg': [301, 302, 303], '2_sg': [21, 22, 23], '2_sp': [25, 28, 22], '17_pl': [179], '25_sg': [251, 252, 253], '15_fp': [154, 157, 151], '14_sp': [142], '27_sp': [272, 278], '3_pl': [37, 38, 39], '6_tp': [66, 69, 63], '3_sg': [32, 33, 31]}\n"
     ]
    }
   ],
   "source": [
    "print(dictnoun)\n",
    "print(dictverb)"
   ]
  },
  {
   "cell_type": "code",
   "execution_count": 9,
   "metadata": {
    "collapsed": true
   },
   "outputs": [],
   "source": [
    "CNGG = list(set(list(dictnoun.keys())).union(set(list(dictverb.keys()))) )"
   ]
  },
  {
   "cell_type": "code",
   "execution_count": 10,
   "metadata": {
    "collapsed": true
   },
   "outputs": [],
   "source": [
    "#CNG_list contains all the possible entries for internal node\n",
    "CNG_list = np.array(CNG['CNG']).tolist()\n",
    "CNG_list = list(set(CNG_list).union(set(CNGG)) )"
   ]
  },
  {
   "cell_type": "code",
   "execution_count": 11,
   "metadata": {
    "collapsed": true
   },
   "outputs": [
    {
     "name": "stdout",
     "output_type": "stream",
     "text": [
      "['30_fp', 1, 2, 3, '13_tp', '8_tp', 'voc. sg.', '7_tp', '11_pl', '6_fp', '12_pl', 28, 29, 30, 31, 32, 33, 34, 35, 36, 37, 38, 39, 40, 41, 42, '8_pl', 48, 49, 50, 51, 'acc. masc.', 54, 55, 56, 58, 59, 60, 61, '3_sp', '4_sp', 68, 69, 70, 71, 72, 73, 74, 75, 76, 77, 78, 79, 80, 81, 82, '2_tp', 'pl_sp', 'sg_fp', 88, 89, 90, 91, 92, 93, 94, 95, 96, 97, 98, 99, 100, 101, 102, '13_sp', '11_fp', '3_sg', 'nom. adj.', 108, 109, 110, 111, 112, 114, 115, 116, 117, 118, 119, 120, 121, 122, '5_tp', 128, 129, 130, 131, 132, 134, 135, 136, 137, 138, 139, 140, 141, 142, '31_fp', 148, 149, 150, 151, 152, 153, 154, 155, 156, 157, 158, 159, 160, 161, 162, 'sp', 'du_sp', '13_fp', '4_pl', '17_tp', 168, 169, 170, 171, 172, 173, 174, 175, 176, 177, 178, 179, 180, 181, 182, '13_pl', '30_sg', 'adj', '12_sg', '28_fp', '16_du', 'loc. du.', '29_sg', 'nom. du.', '14_pl', '25_du', '7_fp', '30_sp', '8_sg', '9_sg', '16_pl', '25_tp', 'instr', '17_du', '27_pl', '8_sp', 'nom', '12_sp', '16_tp', '5_pl', '27_sg', '6_sp', '28_sg', 'voc. neutr.', 'abl. sg.', '10_pl', '13_du', '4_fp', '3_fp', '11_sg', 'voc. fem', '14_fp', '10_sg', '30_pl', '2_fp', '7_du', '27_fp', '14_sp', 'abl. du.', '15_tp', '27_du', '7_sp', '3_du', '5_sg', '30_tp', 'fp', '25_sg', 'pl', 'pl_fp', '27_tp', '31_sp', 'voc', '6_tp', '31_tp', '17_fp', '4_tp', '25_pl', '28_tp', '15_fp', 'abl', '7_pl', '4_sg', '6_du', '2_du', 'du', 'abl. pl.', '8_fp', 'acc. du.', '31_pl', 'loc. sg.', '15_pl', 'instr. du.', '9_sp', 'acc. sg.', 'gen', 'acc. pl.', 'instr. adj.', 'loc', '10_tp', 'gen. du.', '15_sg', '6_pl', '10_fp', '12_du', '9_tp', 'voc. du.', '31_sg', '31_du', 'nom. masc.', '5_du', 'loc. pl.', '17_sg', '3_tp', 'instr. neutr.', 'du_tp', 'instr. fem', '14_sg', 'instr. masc.', '17_pl', 'voc. pl.', 'dat. du.', 'tp', '10_sp', -309, -308, -307, -306, 'nom. sg.', 'gen. sg.', -303, -302, -301, '25_sp', -299, 'neutr', -297, -296, '15_sp', 'instr. sg.', -293, -292, -291, 'fem', -283, '11_du', -279, 'dat. sg.', '25_fp', -276, 'acc', -273, -271, -269, -268, -266, '3_pl', -263, -262, -261, -260, '9_fp', -249, -247, -246, -245, '7_sg', -243, -242, -241, -240, '16_sp', '2_sg', -230, '30_du', 'sg', -220, '28_pl', 'acc. neutr.', -210, '11_tp', 'instr. pl.', -200, 'voc. masc.', '11_sp', '13_sg', 'du_fp', 'acc. fem', -190, 'nom. fem', 'nom. neutr.', '5_fp', 'gen. pl.', '5_sp', -169, -166, 'dat. pl.', -163, -161, '15_du', -159, -158, -157, -156, -154, -153, -152, -151, -150, -149, '14_tp', -147, 'masc', -144, -143, -142, -141, 'dat', -139, '16_fp', -137, -133, -132, -131, -129, 'nom. pl.', '9_du', -126, -123, -122, -121, '12_tp', -119, -117, '29_tp', -115, -114, -113, -112, -111, -109, 'sg_tp', -104, -103, -102, -101, -99, -98, -97, -96, -94, -93, -92, -91, -90, -89, '9_pl', -87, -86, '4_du', -84, -83, -82, -81, '12_fp', -79, -78, -77, -76, '6_sg', '10_du', -73, -72, -71, 'pl_tp', -69, -68, -67, -66, '28_du', -64, -63, -62, -61, 'sg_sp', -59, -58, -57, -56, -55, -54, -53, -52, -51, -50, -49, -48, -47, -46, -45, -44, -43, -42, -41, '2_sp', -39, -38, -37, -36, -35, -34, -33, -32, -31, -30, -29, -28, -27, -26, -25, -24, -23, -22, -21, -20, -19, -18, -17, -16, -15, -14, -13, -12, -11, -10, '16_sg', '8_du', 'acc. adj.', '27_sp', '2_pl']\n"
     ]
    }
   ],
   "source": [
    "print(CNG_list)"
   ]
  },
  {
   "cell_type": "code",
   "execution_count": 12,
   "metadata": {
    "collapsed": true
   },
   "outputs": [],
   "source": [
    "#Internal nodes will be of size 0, 1 or 2 \n",
    "x = combinations_with_replacement(CNG_list,2)\n",
    "Internalnode2 = [i for i in x]\n",
    "Internalnode1 = CNG_list"
   ]
  },
  {
   "cell_type": "code",
   "execution_count": 13,
   "metadata": {
    "collapsed": true
   },
   "outputs": [],
   "source": [
    "#External nodes are \n",
    "x = combinations_with_replacement([\"Lemma\",\"Word\",\"CNG\"],2)\n",
    "Externalnodes = [i for i in x]"
   ]
  },
  {
   "cell_type": "code",
   "execution_count": 14,
   "metadata": {
    "collapsed": true
   },
   "outputs": [],
   "source": [
    "metapath2 = Externalnodes \n",
    "metapath3 = [[]]\n",
    "metapath4= [[]]\n",
    "for i in Externalnodes:\n",
    "    for j in Internalnode1:\n",
    "        metapath3.append([i[0], j, i[1]])\n",
    "        \n",
    "    for k in Internalnode2:\n",
    "        metapath4.append([i[0], k[0], k[1], i[1]])"
   ]
  },
  {
   "cell_type": "code",
   "execution_count": 15,
   "metadata": {},
   "outputs": [
    {
     "data": {
      "text/plain": [
       "655669"
      ]
     },
     "execution_count": 15,
     "metadata": {},
     "output_type": "execute_result"
    }
   ],
   "source": [
    "#to check\n",
    "len(metapath4)"
   ]
  },
  {
   "cell_type": "code",
   "execution_count": 18,
   "metadata": {
    "scrolled": false
   },
   "outputs": [
    {
     "name": "stdout",
     "output_type": "stream",
     "text": [
      "   node1  node2  node3  node4\n",
      "0   None   None   None   None\n",
      "1  Lemma  30_fp  30_fp  Lemma\n",
      "2  Lemma  30_fp      1  Lemma\n",
      "3  Lemma  30_fp      2  Lemma\n",
      "4  Lemma  30_fp      3  Lemma\n",
      "   node1  node2  node3\n",
      "0   None   None   None\n",
      "1  Lemma  30_fp  Lemma\n",
      "2  Lemma      1  Lemma\n",
      "3  Lemma      2  Lemma\n",
      "4  Lemma      3  Lemma\n",
      "   node1  node2\n",
      "0  Lemma  Lemma\n",
      "1  Lemma   Word\n",
      "2  Lemma    CNG\n",
      "3   Word   Word\n",
      "4   Word    CNG\n"
     ]
    }
   ],
   "source": [
    "#storing the values in a dataframe so that I can dump them to sql db \n",
    "df4 = pd.DataFrame(data = metapath4, columns = ['node1', 'node2', 'node3', 'node4'])\n",
    "print(df4.head())\n",
    "df3 = pd.DataFrame(data = metapath3, columns = ['node1', 'node2', 'node3'])\n",
    "print(df3.head())\n",
    "df2 = pd.DataFrame(data = metapath2, columns = ['node1', 'node2'])\n",
    "print(df2.head())"
   ]
  },
  {
   "cell_type": "code",
   "execution_count": 19,
   "metadata": {
    "collapsed": true
   },
   "outputs": [],
   "source": [
    "#dumping to sql\n",
    "df4.to_sql('metapath4', conn1)\n",
    "df3.to_sql('metapath3', conn1)\n",
    "df2.to_sql('metapath2', conn1)"
   ]
  },
  {
   "cell_type": "code",
   "execution_count": 20,
   "metadata": {
    "collapsed": true
   },
   "outputs": [],
   "source": [
    "conn.close()\n",
    "conn1.close()"
   ]
  }
 ],
 "metadata": {
  "kernelspec": {
   "display_name": "Python 3",
   "language": "python",
   "name": "python3"
  },
  "language_info": {
   "codemirror_mode": {
    "name": "ipython",
    "version": 3
   },
   "file_extension": ".py",
   "mimetype": "text/x-python",
   "name": "python",
   "nbconvert_exporter": "python",
   "pygments_lexer": "ipython3",
   "version": "3.6.3"
  }
 },
 "nbformat": 4,
 "nbformat_minor": 2
}
