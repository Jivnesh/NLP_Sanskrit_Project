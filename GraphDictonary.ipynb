{
 "cells": [
  {
   "cell_type": "code",
   "execution_count": 1,
   "metadata": {
    "collapsed": true
   },
   "outputs": [],
   "source": [
    "import pandas as pd \n",
    "import sqlite3 \n",
    "import json"
   ]
  },
  {
   "cell_type": "code",
   "execution_count": 2,
   "metadata": {
    "collapsed": true
   },
   "outputs": [],
   "source": [
    "conn = sqlite3.connect(\"Test.db\")\n",
    "#conn = sqlite3.connect(\"Extracted.db\")"
   ]
  },
  {
   "cell_type": "code",
   "execution_count": 4,
   "metadata": {
    "collapsed": true
   },
   "outputs": [],
   "source": [
    "#we want to represent graph in the form of a dictonary so that we can efficently retrive data\n",
    "# we are making 16 seprate dictonaries, each correspoding to one edge type as storing it in one dictonary would require lot  of memeory\n",
    "\n",
    "df1 = pd.read_sql(\"SELECT * FROM Graph WHERE Type_1 = 'Lemma' AND Type_2 = 'Lemma' \", conn)    \n",
    "df2 = pd.read_sql(\"SELECT * FROM Graph WHERE Type_1 = 'Lemma' AND Type_2 = 'Word' \", conn)     \n",
    "df3 = pd.read_sql(\"SELECT * FROM Graph WHERE Type_1 = 'Lemma' AND Type_2 = 'CNG' \", conn)\n",
    "df4 = pd.read_sql(\"SELECT * FROM Graph WHERE Type_1 = 'Lemma' AND Type_2 = 'CNG_Group' \", conn)\n",
    "df5 = pd.read_sql(\"SELECT * FROM Graph WHERE Type_1 = 'Word' AND Type_2 = 'Lemma' \", conn)    \n",
    "df6 = pd.read_sql(\"SELECT * FROM Graph WHERE Type_1 = 'Word' AND Type_2 = 'Word' \", conn)     \n",
    "df7 = pd.read_sql(\"SELECT * FROM Graph WHERE Type_1 = 'Word' AND Type_2 = 'CNG' \", conn)      \n",
    "df8 = pd.read_sql(\"SELECT * FROM Graph WHERE Type_1 = 'Word' AND Type_2 = 'CNG_Group' \", conn)\n",
    "df9 = pd.read_sql(\"SELECT * FROM Graph WHERE Type_1 = 'CNG' AND Type_2 = 'Lemma' \", conn)    \n",
    "df10 = pd.read_sql(\"SELECT * FROM Graph WHERE Type_1 = 'CNG' AND Type_2 = 'Word' \", conn)     \n",
    "df11 = pd.read_sql(\"SELECT * FROM Graph WHERE Type_1 = 'CNG' AND Type_2 = 'CNG' \", conn)      \n",
    "df12 = pd.read_sql(\"SELECT * FROM Graph WHERE Type_1 = 'CNG' AND Type_2 = 'CNG_Group' \", conn)\n",
    "df13 = pd.read_sql(\"SELECT * FROM Graph WHERE Type_1 = 'CNG_Group' AND Type_2 = 'Lemma' \", conn)    \n",
    "df14 = pd.read_sql(\"SELECT * FROM Graph WHERE Type_1 = 'CNG_Group' AND Type_2 = 'Word' \", conn)     \n",
    "df15 = pd.read_sql(\"SELECT * FROM Graph WHERE Type_1 = 'CNG_Group' AND Type_2 = 'CNG' \", conn)      \n",
    "df16 = pd.read_sql(\"SELECT * FROM Graph WHERE Type_1 = 'CNG_Group' AND Type_2 = 'CNG_Group' \", conn)\n"
   ]
  },
  {
   "cell_type": "code",
   "execution_count": 7,
   "metadata": {
    "collapsed": true
   },
   "outputs": [],
   "source": [
    "#Function used to convert data from Graph in Sql to a python dictonary as inforamtion retrival is faster through dictonaries\n",
    "def to_dict(df, Type_1, Type_2):\n",
    "    \n",
    "    d = dict()\n",
    "    #d is the dictonary in which we will store our edges\n",
    "    \n",
    "    for i,row in df.iterrows():\n",
    "        #iterating through all the edges\n",
    "        d[row['Entity_1'] + '|' + row['Entity_2']] = row['Weight']\n",
    "        #saving each edge into the dictonary\n",
    "    \n",
    "    #dumping to json\n",
    "    with open( Type_1 + '|' + Type_2 + '.json', 'w') as fp:\n",
    "        json.dump(d, fp)\n",
    "        \n",
    "#    with open(Type_1 + '|' + Type_2 + '.json', 'r') as fp:\n",
    "#        d = json.load(fp)\n"
   ]
  },
  {
   "cell_type": "code",
   "execution_count": 11,
   "metadata": {
    "collapsed": true
   },
   "outputs": [],
   "source": [
    "#conversion\n",
    "to_dict(df1, 'Lemma', 'Lemma')    \n",
    "to_dict(df2, 'Lemma', 'Word')    \n",
    "to_dict(df3, 'Lemma', 'CNG')      \n",
    "to_dict(df4, 'Lemma', 'CNG_Group')\n",
    "to_dict(df5, 'Word', 'Lemma')   \n",
    "to_dict(df6, 'Word', 'Word')    \n",
    "to_dict(df7, 'Word', 'CNG')     \n",
    "to_dict(df8, 'Word', 'CNG_Group')\n",
    "to_dict(df9, 'CNG', 'Lemma')   \n",
    "to_dict(df10, 'CNG', 'Word')    \n",
    "to_dict(df11, 'CNG', 'CNG')     \n",
    "to_dict(df12, 'CNG', 'CNG_Group')\n",
    "to_dict(df13, 'CNG_Group', 'Lemma')   \n",
    "to_dict(df14, 'CNG_Group', 'Word')    \n",
    "to_dict(df15, 'CNG_Group', 'CNG')     \n",
    "to_dict(df16, 'CNG_Group', 'CNG_Group')\n"
   ]
  }
 ],
 "metadata": {
  "kernelspec": {
   "display_name": "Python 3",
   "language": "python",
   "name": "python3"
  },
  "language_info": {
   "codemirror_mode": {
    "name": "ipython",
    "version": 3
   },
   "file_extension": ".py",
   "mimetype": "text/x-python",
   "name": "python",
   "nbconvert_exporter": "python",
   "pygments_lexer": "ipython3",
   "version": "3.6.3"
  }
 },
 "nbformat": 4,
 "nbformat_minor": 2
}
